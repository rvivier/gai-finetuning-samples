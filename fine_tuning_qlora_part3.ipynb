{
 "cells": [
  {
   "cell_type": "markdown",
   "metadata": {},
   "source": [
    "# Qlora fine-tuning"
   ]
  },
  {
   "cell_type": "code",
   "execution_count": 9,
   "metadata": {
    "tags": []
   },
   "outputs": [
    {
     "name": "stdout",
     "output_type": "stream",
     "text": [
      "s3://sagemaker-us-east-1-327216439222/model-fine-tuning/tokenized-domain/train/\n",
      "s3://sagemaker-us-east-1-327216439222/model-fine-tuning/tokenized-instruct/train/\n",
      "s3://sagemaker-us-east-1-327216439222/model-fine-tuning/models/falcon-7b/\n",
      "falcon-7b\n",
      "tiiuae/falcon-7b\n"
     ]
    }
   ],
   "source": [
    "#load variables from previous notebook\n",
    "%store -r\n",
    "print(training_input_path_domain)\n",
    "print(training_input_path_instruct)\n",
    "print(model_path)\n",
    "print(model_name)\n",
    "print(model_id)"
   ]
  },
  {
   "cell_type": "code",
   "execution_count": 1,
   "metadata": {
    "tags": []
   },
   "outputs": [],
   "source": [
    "#TODO:remove later\n",
    "training_input_path_domain = \"s3://sagemaker-us-east-1-327216439222/model-fine-tuning/tokenized-domain/train/\"\n",
    "training_input_path_instruct = \"s3://sagemaker-us-east-1-327216439222/model-fine-tuning/tokenized-instruct/train/\"\n",
    "model_path = \"s3://sagemaker-us-east-1-327216439222/model-fine-tuning/models/falcon-7b/\"\n",
    "model_name = \"falcon-7b\"\n",
    "model_id = \"tiiuae/falcon-7b\""
   ]
  },
  {
   "cell_type": "code",
   "execution_count": 2,
   "metadata": {
    "tags": []
   },
   "outputs": [
    {
     "name": "stdout",
     "output_type": "stream",
     "text": [
      "\u001b[31mERROR: pip's dependency resolver does not currently take into account all the packages that are installed. This behaviour is the source of the following dependency conflicts.\n",
      "awscli 1.27.157 requires PyYAML<5.5,>=3.10, but you have pyyaml 6.0.1 which is incompatible.\u001b[0m\u001b[31m\n",
      "\u001b[0m"
     ]
    }
   ],
   "source": [
    "!pip install huggingface_hub --upgrade --quiet\n",
    "!pip install \"transformers==4.30.2\" \"datasets[s3]==2.13.0\" sagemaker --upgrade --quiet"
   ]
  },
  {
   "cell_type": "markdown",
   "metadata": {},
   "source": [
    "If you are going to use Sagemaker in a local environment. You need access to an IAM Role with the required permissions for Sagemaker. You can find [here](https://docs.aws.amazon.com/sagemaker/latest/dg/sagemaker-roles.html) more about it.\n",
    "\n"
   ]
  },
  {
   "cell_type": "code",
   "execution_count": 3,
   "metadata": {
    "tags": []
   },
   "outputs": [],
   "source": [
    "#required to work in local_mode on your notebook instance for development/debugging purpose\n",
    "#!pip install 'sagemaker[local]' --upgrade --quiet\n",
    "#!pip install docker-compose --quiet"
   ]
  },
  {
   "cell_type": "code",
   "execution_count": 4,
   "metadata": {
    "tags": []
   },
   "outputs": [
    {
     "name": "stdout",
     "output_type": "stream",
     "text": [
      "sagemaker role arn: arn:aws:iam::327216439222:role/Sagemaker\n",
      "sagemaker bucket: sagemaker-us-east-1-327216439222\n",
      "sagemaker session region: us-east-1\n"
     ]
    }
   ],
   "source": [
    "import sagemaker\n",
    "import boto3\n",
    "import os\n",
    "\n",
    "#uncomment to run in local mode\n",
    "#from sagemaker import LocalSession\n",
    "#sess = LocalSession()\n",
    "#the below help setting up the container's root on the EBS volume of your instance.\n",
    "#sess.config = {'local' : {'local_code' : True, 'container_root' : '/home/ec2-user/SageMaker/'}}\n",
    "#if you're running local mode and run into out of space issues, consider running docker_scripts/prepare-docker.sh to set the docker root under /home/ec2-user/SageMaker\n",
    "\n",
    "sess = sagemaker.Session()\n",
    "region = sess.boto_region_name\n",
    "\n",
    "#replace the below by a specific bucket if you need\n",
    "sagemaker_session_bucket = sess.default_bucket()\n",
    "role = sagemaker.get_execution_role()\n",
    "s3_client = boto3.client(\"s3\")\n",
    "s3_prefix = \"model-fine-tuning\"\n",
    "\n",
    "#local notebook path\n",
    "notebook_home = \"/home/ec2-user/SageMaker/\"\n",
    "\n",
    "print(f\"sagemaker role arn: {role}\")\n",
    "print(f\"sagemaker bucket: {sess.default_bucket()}\")\n",
    "print(f\"sagemaker session region: {region}\")"
   ]
  },
  {
   "cell_type": "markdown",
   "metadata": {},
   "source": [
    "## Fine-Tune with QLoRA on Amazon SageMaker\n",
    "\n",
    "We are going to use the recently introduced method in the paper \"[QLoRA: Quantization-aware Low-Rank Adapter Tuning for Language Generation](https://arxiv.org/abs/2106.09685)\" by Tim Dettmers et al. QLoRA is a new technique to reduce the memory footprint of large language models during finetuning, without sacrificing performance. The TL;DR; of how QLoRA works is: \n",
    "\n",
    "* Quantize the pretrained model to 4 bits and freezing it.\n",
    "* Attach small, trainable adapter layers. (LoRA)\n",
    "* Finetune only the adapter layers, while using the frozen quantized model for context.\n",
    "\n",
    "We prepared a [run_clm.py](./scripts/run_clm.py), which implements QLora using PEFT to train our model. The script also merges the LoRA weights into the model weights after training. That way you can use the model as a normal model without any additional code.\n",
    "\n",
    "In order to create a sagemaker training job we need an `HuggingFace` Estimator. The Estimator handles end-to-end Amazon SageMaker training and deployment tasks. The Estimator manages the infrastructure use. \n",
    "SagMaker takes care of starting and managing all the required ec2 instances for us, provides the correct huggingface container, uploads the provided scripts and downloads the data from our S3 bucket into the container at `/opt/ml/input/data`. Then, it starts the training job by running.\n"
   ]
  },
  {
   "cell_type": "code",
   "execution_count": 5,
   "metadata": {
    "tags": []
   },
   "outputs": [
    {
     "name": "stdout",
     "output_type": "stream",
     "text": [
      "model to be fine-tuned: tiiuae/falcon-7b\n"
     ]
    }
   ],
   "source": [
    "print(f\"model to be fine-tuned: {model_id}\")"
   ]
  },
  {
   "cell_type": "markdown",
   "metadata": {},
   "source": [
    "### HF Estimator configuration"
   ]
  },
  {
   "cell_type": "code",
   "execution_count": 6,
   "metadata": {
    "tags": []
   },
   "outputs": [],
   "source": [
    "from sagemaker.huggingface import HuggingFace\n",
    "from sagemaker.pytorch import PyTorch\n",
    "from sagemaker.inputs import TrainingInput\n",
    "import time\n",
    "\n",
    "def get_estimator(model_id):\n",
    "    # define Training Job Name \n",
    "    job_name = f'huggingface-qlora-{time.strftime(\"%Y-%m-%d-%H-%M-%S\", time.localtime())}'\n",
    "\n",
    "    # hyperparameters, which are passed into the training job\n",
    "    hyperparameters ={\n",
    "      'model_id': model_id,                                # pre-trained model\n",
    "      'dataset_path': '/opt/ml/input/data/training',       # path where sagemaker will save training dataset\n",
    "      'model_path' : '/opt/ml/input/data/pre-trained/',    # path to load the model from\n",
    "      'epochs': 4,                                         # number of training epochs\n",
    "      'per_device_train_batch_size': 4,                    # batch size for training\n",
    "      'lr': 2e-4,                                          # learning rate used during training\n",
    "    }\n",
    "\n",
    "\n",
    "    # create the Estimator for fine tuning on single GPU\n",
    "    huggingface_estimator = HuggingFace(\n",
    "        #sagemaker_session=sess,                   #required for setting new container root to EBS volume\n",
    "        entry_point          = 'run_clm.py',         # train script\n",
    "        source_dir           = './qlora_scripts',    # directory which includes all the files needed for training\n",
    "        #instance_type        = 'local_gpu',         #uncomment and comment below to switch to local mode.\n",
    "        instance_type        = 'ml.g5.12xlarge',     # instances type used for the training job\n",
    "        instance_count       = 1,                 # the number of instances used for training\n",
    "        base_job_name        = job_name,          # the name of the training job\n",
    "        role                 = role,              # Iam role used in training job to access AWS ressources, e.g. S3\n",
    "        volume_size          = 500,               # the size of the EBS volume in GB\n",
    "        transformers_version = '4.28.1',\n",
    "        #framework_version    = '2.0.0',            # the transformers version used in the training job\n",
    "        pytorch_version      = '2.0.0',            # the pytorch_version version used in the training job\n",
    "        py_version           = 'py310',            # the python version used in the training job\n",
    "        hyperparameters      =  hyperparameters,\n",
    "        environment          = { \"HUGGINGFACE_HUB_CACHE\": \"/tmp/.cache\" }, # set env variable to cache models in /tmp\n",
    "    )\n",
    "\n",
    "    return huggingface_estimator\n",
    "    '''\n",
    "    # create the Estimator for fine tuning on multiple GPU (and local mode)\n",
    "    huggingface_estimator = HuggingFace(\n",
    "        sagemaker_session=sess,                   #required for setting new container root to EBS volume\n",
    "        entry_point          = 'launch_accelerate.sh',         # train script\n",
    "        source_dir           = './qlora_scripts',    # directory which includes all the files needed for training\n",
    "        instance_type        = 'local_gpu',\n",
    "        #instance_type        = 'ml.g5.12xlarge',     # instances type used for the training job\n",
    "        instance_count       = 1,                 # the number of instances used for training\n",
    "        base_job_name        = job_name,          # the name of the training job\n",
    "        role                 = role,              # Iam role used in training job to access AWS ressources, e.g. S3\n",
    "        volume_size          = 400,               # the size of the EBS volume in GB\n",
    "        transformers_version = '4.28.1',\n",
    "        #framework_version    = '2.0.0',            # the transformers version used in the training job\n",
    "        pytorch_version      = '2.0.0',            # the pytorch_version version used in the training job\n",
    "        py_version           = 'py310',            # the python version used in the training job\n",
    "        hyperparameters      =  hyperparameters,\n",
    "        environment          = { \"HUGGINGFACE_HUB_CACHE\": \"/tmp/.cache\" }, # set env variable to cache models in /tmp\n",
    "        #this configuration enabled data/model parallel distribution\n",
    "        #distribution={\n",
    "        #    \"torch_distributed\": {\n",
    "        #        \"enabled\": True\n",
    "        #    }\n",
    "        #}\n",
    "    )\n",
    "    '''\n",
    "    \n",
    "def fit_model(huggingface_estimator, model_path, training_input_path):\n",
    "    fast_file = lambda x: TrainingInput(x, input_mode=\"FastFile\")\n",
    "    huggingface_estimator.fit(\n",
    "        {\n",
    "            \"pre-trained\": fast_file(model_path),\n",
    "            \"training\": fast_file(training_input_path),\n",
    "        },\n",
    "        wait=False,\n",
    "    )\n",
    "    training_job_name = huggingface_estimator.latest_training_job.name\n",
    "    \n",
    "    model_tar_gz_s3 = os.path.join(\"s3://\", sagemaker_session_bucket, training_job_name, \"output/model.tar.gz\")\n",
    "    \n",
    "    return training_job_name, model_tar_gz_s3\n",
    "\n",
    "\n",
    "def download_tuned_model(model_tuned_dir, training_job_name):\n",
    "    if not os.path.isdir(model_tuned_dir):\n",
    "        os.makedirs(model_tuned_dir)\n",
    "    model_tuned_file = model_tuned_dir + \"model.tar.gz\"\n",
    " \n",
    "    #download from s3 to local\n",
    "    s3_client.download_file(sagemaker_session_bucket, \n",
    "                            os.path.join(training_job_name, \"output/model.tar.gz\"), \n",
    "                           model_tuned_file)\n",
    "    return model_tuned_file"
   ]
  },
  {
   "cell_type": "markdown",
   "metadata": {},
   "source": [
    "### Domain adaptation/fine tuning"
   ]
  },
  {
   "cell_type": "markdown",
   "metadata": {},
   "source": [
    "We can now start our training job, with the `.fit()` method passing our S3 path to the training script."
   ]
  },
  {
   "cell_type": "code",
   "execution_count": 7,
   "metadata": {
    "tags": []
   },
   "outputs": [
    {
     "name": "stderr",
     "output_type": "stream",
     "text": [
      "INFO:sagemaker.image_uris:image_uri is not presented, retrieving image_uri based on instance_type, framework etc.\n",
      "INFO:sagemaker:Creating training-job with name: huggingface-qlora-2023-07-30-23-29-12-2023-07-30-23-29-12-389\n"
     ]
    },
    {
     "name": "stdout",
     "output_type": "stream",
     "text": [
      "Using provided s3_resource\n",
      "training_job_name_domain:huggingface-qlora-2023-07-30-23-29-12-2023-07-30-23-29-12-389\n",
      "model_tar_gz_s3_domain:s3://sagemaker-us-east-1-327216439222/huggingface-qlora-2023-07-30-23-29-12-2023-07-30-23-29-12-389/output/model.tar.gz\n"
     ]
    }
   ],
   "source": [
    "#get estimator with config\n",
    "huggingface_estimator_domain = get_estimator(model_id)\n",
    "\n",
    "#launch fine tuning\n",
    "training_job_name_domain, model_tar_gz_s3_domain = fit_model(huggingface_estimator_domain, model_path, training_input_path_domain)\n",
    "\n",
    "print(f\"training_job_name_domain:{training_job_name_domain}\")\n",
    "print(f\"model_tar_gz_s3_domain:{model_tar_gz_s3_domain}\")"
   ]
  },
  {
   "cell_type": "markdown",
   "metadata": {},
   "source": [
    "In our example, the SageMaker training job took 1h for one epoch. The ml.g5.12xlarge instance we used costs `$7.09 per hour` for on-demand usage."
   ]
  },
  {
   "cell_type": "markdown",
   "metadata": {},
   "source": [
    "Wait for the model to be fine tuned and model.tar.gz to be created or use one already created from folder: < TODO provide folder >"
   ]
  },
  {
   "cell_type": "markdown",
   "metadata": {},
   "source": [
    "### Downloading the fine tuned model"
   ]
  },
  {
   "cell_type": "code",
   "execution_count": 11,
   "metadata": {
    "tags": []
   },
   "outputs": [
    {
     "name": "stdout",
     "output_type": "stream",
     "text": [
      "generation_config.json\n",
      "pytorch_model.bin.index.json\n",
      "pytorch_model-00002-of-00002.bin\n",
      "configuration_RW.py\n",
      "config.json\n",
      "code/\n",
      "code/inference.py\n",
      "code/requirements.txt\n",
      "tokenizer_config.json\n",
      "special_tokens_map.json\n",
      "modelling_RW.py\n",
      "pytorch_model-00001-of-00002.bin\n",
      "tokenizer.json\n"
     ]
    }
   ],
   "source": [
    "model_tuned_domain_dir = os.path.join(notebook_home, \"models\", model_name + \"-tuned-domain\", \"\")\n",
    "#download\n",
    "model_tuned_domain_file = download_tuned_model(model_tuned_domain_dir, training_job_name_domain)\n",
    "\n",
    "#untar to check the content and make sure it includes everything\n",
    "!tar -xvf $model_tuned_domain_file --directory $model_tuned_domain_dir"
   ]
  },
  {
   "cell_type": "markdown",
   "metadata": {},
   "source": [
    "## Instruct fine tuning"
   ]
  },
  {
   "cell_type": "code",
   "execution_count": 8,
   "metadata": {
    "tags": []
   },
   "outputs": [
    {
     "name": "stderr",
     "output_type": "stream",
     "text": [
      "INFO:sagemaker.image_uris:image_uri is not presented, retrieving image_uri based on instance_type, framework etc.\n",
      "INFO:sagemaker:Creating training-job with name: huggingface-qlora-2023-07-30-23-29-27-2023-07-30-23-29-27-188\n"
     ]
    },
    {
     "name": "stdout",
     "output_type": "stream",
     "text": [
      "Using provided s3_resource\n",
      "training_job_name_domain:huggingface-qlora-2023-07-30-23-29-27-2023-07-30-23-29-27-188\n",
      "model_tar_gz_s3_domain:s3://sagemaker-us-east-1-327216439222/huggingface-qlora-2023-07-30-23-29-27-2023-07-30-23-29-27-188/output/model.tar.gz\n"
     ]
    }
   ],
   "source": [
    "#get estimator with config\n",
    "huggingface_estimator_instruct = get_estimator(model_id)\n",
    "\n",
    "#launch fine tuning\n",
    "training_job_name_instruct, model_tar_gz_s3_instruct = fit_model(huggingface_estimator_instruct, model_path, training_input_path_instruct)\n",
    "print(f\"training_job_name_domain:{training_job_name_instruct}\")\n",
    "print(f\"model_tar_gz_s3_domain:{model_tar_gz_s3_instruct}\")"
   ]
  },
  {
   "cell_type": "markdown",
   "metadata": {},
   "source": [
    "### Download the instruct fined tuned model"
   ]
  },
  {
   "cell_type": "code",
   "execution_count": 25,
   "metadata": {
    "tags": []
   },
   "outputs": [
    {
     "name": "stdout",
     "output_type": "stream",
     "text": [
      "generation_config.json\n",
      "pytorch_model.bin.index.json\n",
      "pytorch_model-00002-of-00002.bin\n",
      "configuration_RW.py\n",
      "config.json\n",
      "code/\n",
      "code/inference.py\n",
      "code/requirements.txt\n",
      "tokenizer_config.json\n",
      "special_tokens_map.json\n",
      "modelling_RW.py\n",
      "pytorch_model-00001-of-00002.bin\n",
      "tokenizer.json\n"
     ]
    }
   ],
   "source": [
    "model_tuned_instruct_dir = os.path.join(notebook_home, \"models\", model_name + \"-tuned-instruct\", \"\")\n",
    "#download\n",
    "model_tuned_instruct_file = download_tuned_model(model_tuned_instruct_dir, training_job_name_instruct)\n",
    "\n",
    "#untar to check the content and make sure it includes everything\n",
    "!tar -xvf $model_tuned_domain_file --directory $model_tuned_domain_dir"
   ]
  },
  {
   "cell_type": "markdown",
   "metadata": {},
   "source": [
    "### Fine tuning duration\n",
    "\n",
    "it is interesting to note that the domain fine tuning with 4 epochs took only 3h compared to instruct fine tuning which took 8h"
   ]
  },
  {
   "attachments": {
    "d2f55895-ae5f-4b5c-99cc-07827190e81d.png": {
     "image/png": "[encoded data removed]"
    }
   },
   "cell_type": "markdown",
   "metadata": {},
   "source": [
    "![image.png](attachment:d2f55895-ae5f-4b5c-99cc-07827190e81d.png)"
   ]
  },
  {
   "cell_type": "markdown",
   "metadata": {},
   "source": [
    "## Register model"
   ]
  },
  {
   "cell_type": "markdown",
   "metadata": {},
   "source": [
    "### Create model group"
   ]
  },
  {
   "cell_type": "code",
   "execution_count": 26,
   "metadata": {
    "tags": []
   },
   "outputs": [],
   "source": [
    "sm_client = boto3.client('sagemaker', region_name=region)\n",
    "\n",
    "def create_model_group(group_name, model_id):\n",
    "\n",
    "    try:\n",
    "        model_package_group_input_dict = {\n",
    "         \"ModelPackageGroupName\" : group_name,\n",
    "         \"ModelPackageGroupDescription\" : f\"fine tuned versions of {model_id}\"\n",
    "        }\n",
    "        create_model_package_group_response = sm_client.create_model_package_group(**model_package_group_input_dict)\n",
    "        print('ModelPackageGroup Arn : {}'.format(create_model_package_group_response['ModelPackageGroupArn']))\n",
    "        return create_model_package_group_response['ModelPackageGroupArn']\n",
    "    except:\n",
    "        print(\"Model group already exists\")"
   ]
  },
  {
   "cell_type": "code",
   "execution_count": 27,
   "metadata": {
    "tags": []
   },
   "outputs": [
    {
     "name": "stdout",
     "output_type": "stream",
     "text": [
      "Model group already exists\n"
     ]
    }
   ],
   "source": [
    "model_package_group_name_domain = \"gai-fine-tuned-domain-\" + model_name\n",
    "modelPackageGroupArn_domain = create_model_group(model_package_group_name_domain, model_id)"
   ]
  },
  {
   "cell_type": "code",
   "execution_count": 28,
   "metadata": {
    "tags": []
   },
   "outputs": [
    {
     "name": "stdout",
     "output_type": "stream",
     "text": [
      "Model group already exists\n"
     ]
    }
   ],
   "source": [
    "model_package_group_name_instruct = \"gai-fine-tuned-instruct-\" + model_name\n",
    "modelPackageGroupArn_instruct = create_model_group(model_package_group_name_instruct, model_id)"
   ]
  },
  {
   "cell_type": "markdown",
   "metadata": {},
   "source": [
    "### Register a model version"
   ]
  },
  {
   "cell_type": "code",
   "execution_count": 29,
   "metadata": {
    "tags": []
   },
   "outputs": [],
   "source": [
    "image_url = \"763104351884.dkr.ecr.us-east-1.amazonaws.com/huggingface-pytorch-inference:2.0.0-transformers4.28.1-gpu-py310-cu118-ubuntu20.04\"\n",
    "\n",
    "def register_model_version(image_url, model_tar_gz_s3, model_package_group_name, model_id, training_job_name):\n",
    "    modelpackage_inference_specification =  {\n",
    "        \"InferenceSpecification\": {\n",
    "          \"Containers\": [\n",
    "             {\n",
    "                \"Image\": image_url,\n",
    "                 \"ModelDataUrl\": model_tar_gz_s3\n",
    "             }\n",
    "          ],\n",
    "          \"SupportedContentTypes\": [\"application/json\"],\n",
    "          \"SupportedResponseMIMETypes\": [\"application/json\"],\n",
    "       }\n",
    "     }\n",
    "\n",
    "    create_model_package_input_dict = {\n",
    "        \"ModelPackageGroupName\" : model_package_group_name,\n",
    "        \"ModelPackageDescription\" : f\"qlora fine tuning of model {model_id} done during training job {training_job_name}\",\n",
    "        \"ModelApprovalStatus\" : \"PendingManualApproval\"\n",
    "    }\n",
    "\n",
    "    create_model_package_input_dict.update(modelpackage_inference_specification)\n",
    "    print(f\"model package configuration:{create_model_package_input_dict}\")\n",
    "    \n",
    "    create_model_package_response = sm_client.create_model_package(**create_model_package_input_dict)\n",
    "    model_package_arn = create_model_package_response[\"ModelPackageArn\"]\n",
    "    print('ModelPackage Version ARN : {}'.format(model_package_arn))\n",
    "    return model_package_arn"
   ]
  },
  {
   "cell_type": "code",
   "execution_count": 30,
   "metadata": {
    "tags": []
   },
   "outputs": [
    {
     "name": "stdout",
     "output_type": "stream",
     "text": [
      "model package configuration:{'ModelPackageGroupName': 'gai-fine-tuned-domain-falcon-7b', 'ModelPackageDescription': 'qlora fine tuning of model tiiuae/falcon-7b done during training job huggingface-qlora-2023-07-30-23-29-12-2023-07-30-23-29-12-389', 'ModelApprovalStatus': 'PendingManualApproval', 'InferenceSpecification': {'Containers': [{'Image': '763104351884.dkr.ecr.us-east-1.amazonaws.com/huggingface-pytorch-inference:2.0.0-transformers4.28.1-gpu-py310-cu118-ubuntu20.04', 'ModelDataUrl': 's3://sagemaker-us-east-1-327216439222/huggingface-qlora-2023-07-30-23-29-12-2023-07-30-23-29-12-389/output/model.tar.gz'}], 'SupportedContentTypes': ['application/json'], 'SupportedResponseMIMETypes': ['application/json']}}\n",
      "ModelPackage Version ARN : arn:aws:sagemaker:us-east-1:327216439222:model-package/gai-fine-tuned-domain-falcon-7b/3\n"
     ]
    }
   ],
   "source": [
    "model_package_arn_domain = register_model_version(image_url, model_tar_gz_s3_domain, model_package_group_name_domain, model_id, training_job_name_domain)"
   ]
  },
  {
   "cell_type": "code",
   "execution_count": 31,
   "metadata": {
    "tags": []
   },
   "outputs": [
    {
     "name": "stdout",
     "output_type": "stream",
     "text": [
      "model package configuration:{'ModelPackageGroupName': 'gai-fine-tuned-instruct-falcon-7b', 'ModelPackageDescription': 'qlora fine tuning of model tiiuae/falcon-7b done during training job huggingface-qlora-2023-07-30-23-29-27-2023-07-30-23-29-27-188', 'ModelApprovalStatus': 'PendingManualApproval', 'InferenceSpecification': {'Containers': [{'Image': '763104351884.dkr.ecr.us-east-1.amazonaws.com/huggingface-pytorch-inference:2.0.0-transformers4.28.1-gpu-py310-cu118-ubuntu20.04', 'ModelDataUrl': 's3://sagemaker-us-east-1-327216439222/huggingface-qlora-2023-07-30-23-29-27-2023-07-30-23-29-27-188/output/model.tar.gz'}], 'SupportedContentTypes': ['application/json'], 'SupportedResponseMIMETypes': ['application/json']}}\n",
      "ModelPackage Version ARN : arn:aws:sagemaker:us-east-1:327216439222:model-package/gai-fine-tuned-instruct-falcon-7b/3\n"
     ]
    }
   ],
   "source": [
    "model_package_arn_instruct = register_model_version(image_url, model_tar_gz_s3_instruct, model_package_group_name_instruct, model_id, training_job_name_instruct)"
   ]
  },
  {
   "cell_type": "code",
   "execution_count": 32,
   "metadata": {
    "tags": []
   },
   "outputs": [
    {
     "data": {
      "text/plain": [
       "{'ModelPackageSummaryList': [{'ModelPackageGroupName': 'gai-fine-tuned-domain-falcon-7b',\n",
       "   'ModelPackageVersion': 3,\n",
       "   'ModelPackageArn': 'arn:aws:sagemaker:us-east-1:327216439222:model-package/gai-fine-tuned-domain-falcon-7b/3',\n",
       "   'ModelPackageDescription': 'qlora fine tuning of model tiiuae/falcon-7b done during training job huggingface-qlora-2023-07-30-23-29-12-2023-07-30-23-29-12-389',\n",
       "   'CreationTime': datetime.datetime(2023, 8, 1, 1, 35, 24, 446000, tzinfo=tzlocal()),\n",
       "   'ModelPackageStatus': 'Completed',\n",
       "   'ModelApprovalStatus': 'PendingManualApproval'},\n",
       "  {'ModelPackageGroupName': 'gai-fine-tuned-domain-falcon-7b',\n",
       "   'ModelPackageVersion': 2,\n",
       "   'ModelPackageArn': 'arn:aws:sagemaker:us-east-1:327216439222:model-package/gai-fine-tuned-domain-falcon-7b/2',\n",
       "   'ModelPackageDescription': 'qlora fine tuning of model tiiuae/falcon-7b done during training job huggingface-qlora-2023-07-30-23-29-12-2023-07-30-23-29-12-389',\n",
       "   'CreationTime': datetime.datetime(2023, 8, 1, 1, 16, 25, 180000, tzinfo=tzlocal()),\n",
       "   'ModelPackageStatus': 'Completed',\n",
       "   'ModelApprovalStatus': 'Approved'},\n",
       "  {'ModelPackageGroupName': 'gai-fine-tuned-domain-falcon-7b',\n",
       "   'ModelPackageVersion': 1,\n",
       "   'ModelPackageArn': 'arn:aws:sagemaker:us-east-1:327216439222:model-package/gai-fine-tuned-domain-falcon-7b/1',\n",
       "   'ModelPackageDescription': 'qlora fine tuning of model tiiuae/falcon-7b done during training job huggingface-qlora-2023-07-26-12-50-47-2023-07-26-12-50-47-199',\n",
       "   'CreationTime': datetime.datetime(2023, 7, 27, 4, 0, 15, 121000, tzinfo=tzlocal()),\n",
       "   'ModelPackageStatus': 'Completed',\n",
       "   'ModelApprovalStatus': 'Approved'}],\n",
       " 'ResponseMetadata': {'RequestId': 'c05fa281-c9d8-458d-adfc-aad36337aa3b',\n",
       "  'HTTPStatusCode': 200,\n",
       "  'HTTPHeaders': {'x-amzn-requestid': 'c05fa281-c9d8-458d-adfc-aad36337aa3b',\n",
       "   'content-type': 'application/x-amz-json-1.1',\n",
       "   'content-length': '1391',\n",
       "   'date': 'Tue, 01 Aug 2023 01:35:27 GMT'},\n",
       "  'RetryAttempts': 0}}"
      ]
     },
     "execution_count": 32,
     "metadata": {},
     "output_type": "execute_result"
    }
   ],
   "source": [
    "sm_client.list_model_packages(ModelPackageGroupName=model_package_group_name_domain)"
   ]
  },
  {
   "cell_type": "code",
   "execution_count": 33,
   "metadata": {
    "tags": []
   },
   "outputs": [
    {
     "data": {
      "text/plain": [
       "{'ModelPackageSummaryList': [{'ModelPackageGroupName': 'gai-fine-tuned-instruct-falcon-7b',\n",
       "   'ModelPackageVersion': 3,\n",
       "   'ModelPackageArn': 'arn:aws:sagemaker:us-east-1:327216439222:model-package/gai-fine-tuned-instruct-falcon-7b/3',\n",
       "   'ModelPackageDescription': 'qlora fine tuning of model tiiuae/falcon-7b done during training job huggingface-qlora-2023-07-30-23-29-27-2023-07-30-23-29-27-188',\n",
       "   'CreationTime': datetime.datetime(2023, 8, 1, 1, 35, 27, 193000, tzinfo=tzlocal()),\n",
       "   'ModelPackageStatus': 'Completed',\n",
       "   'ModelApprovalStatus': 'PendingManualApproval'},\n",
       "  {'ModelPackageGroupName': 'gai-fine-tuned-instruct-falcon-7b',\n",
       "   'ModelPackageVersion': 2,\n",
       "   'ModelPackageArn': 'arn:aws:sagemaker:us-east-1:327216439222:model-package/gai-fine-tuned-instruct-falcon-7b/2',\n",
       "   'ModelPackageDescription': 'qlora fine tuning of model tiiuae/falcon-7b done during training job huggingface-qlora-2023-07-30-23-29-27-2023-07-30-23-29-27-188',\n",
       "   'CreationTime': datetime.datetime(2023, 8, 1, 1, 16, 27, 913000, tzinfo=tzlocal()),\n",
       "   'ModelPackageStatus': 'Completed',\n",
       "   'ModelApprovalStatus': 'Approved'},\n",
       "  {'ModelPackageGroupName': 'gai-fine-tuned-instruct-falcon-7b',\n",
       "   'ModelPackageVersion': 1,\n",
       "   'ModelPackageArn': 'arn:aws:sagemaker:us-east-1:327216439222:model-package/gai-fine-tuned-instruct-falcon-7b/1',\n",
       "   'ModelPackageDescription': 'qlora fine tuning of model tiiuae/falcon-7b done during training job huggingface-qlora-2023-07-27-03-23-11-2023-07-27-03-23-11-897',\n",
       "   'CreationTime': datetime.datetime(2023, 7, 27, 6, 10, 49, 610000, tzinfo=tzlocal()),\n",
       "   'ModelPackageStatus': 'Completed',\n",
       "   'ModelApprovalStatus': 'Approved'}],\n",
       " 'ResponseMetadata': {'RequestId': '8f07c434-8f82-4ea7-93ad-96867eaf8f1c',\n",
       "  'HTTPStatusCode': 200,\n",
       "  'HTTPHeaders': {'x-amzn-requestid': '8f07c434-8f82-4ea7-93ad-96867eaf8f1c',\n",
       "   'content-type': 'application/x-amz-json-1.1',\n",
       "   'content-length': '1403',\n",
       "   'date': 'Tue, 01 Aug 2023 01:35:27 GMT'},\n",
       "  'RetryAttempts': 0}}"
      ]
     },
     "execution_count": 33,
     "metadata": {},
     "output_type": "execute_result"
    }
   ],
   "source": [
    "sm_client.list_model_packages(ModelPackageGroupName=model_package_group_name_instruct)"
   ]
  },
  {
   "cell_type": "markdown",
   "metadata": {},
   "source": [
    "### Approve model"
   ]
  },
  {
   "cell_type": "code",
   "execution_count": 34,
   "metadata": {
    "tags": []
   },
   "outputs": [],
   "source": [
    "def approve_model(model_package_arn):\n",
    "    model_package_update_input_dict = {\n",
    "        \"ModelPackageArn\" : model_package_arn,\n",
    "        \"ModelApprovalStatus\" : \"Approved\"\n",
    "    }\n",
    "    model_package_update_response = sm_client.update_model_package(**model_package_update_input_dict)"
   ]
  },
  {
   "cell_type": "code",
   "execution_count": 35,
   "metadata": {
    "tags": []
   },
   "outputs": [],
   "source": [
    "approve_model(model_package_arn_domain)"
   ]
  },
  {
   "cell_type": "code",
   "execution_count": 36,
   "metadata": {
    "tags": []
   },
   "outputs": [],
   "source": [
    "approve_model(model_package_arn_instruct)"
   ]
  },
  {
   "cell_type": "code",
   "execution_count": 37,
   "metadata": {
    "tags": []
   },
   "outputs": [
    {
     "name": "stdout",
     "output_type": "stream",
     "text": [
      "Stored 'model_package_arn_domain' (str)\n",
      "Stored 'model_package_arn_instruct' (str)\n",
      "Stored 'model_tar_gz_s3_instruct' (str)\n",
      "Stored 'model_tar_gz_s3_domain' (str)\n"
     ]
    }
   ],
   "source": [
    "%store model_package_arn_domain\n",
    "%store model_package_arn_instruct\n",
    "%store model_tar_gz_s3_instruct\n",
    "%store model_tar_gz_s3_domain"
   ]
  },
  {
   "cell_type": "code",
   "execution_count": null,
   "metadata": {},
   "outputs": [],
   "source": []
  }
 ],
 "metadata": {
  "kernelspec": {
   "display_name": "conda_pytorch_p310",
   "language": "python",
   "name": "conda_pytorch_p310"
  },
  "language_info": {
   "codemirror_mode": {
    "name": "ipython",
    "version": 3
   },
   "file_extension": ".py",
   "mimetype": "text/x-python",
   "name": "python",
   "nbconvert_exporter": "python",
   "pygments_lexer": "ipython3",
   "version": "3.10.12"
  },
  "vscode": {
   "interpreter": {
    "hash": "2d58e898dde0263bc564c6968b04150abacfd33eed9b19aaa8e45c040360e146"
   }
  }
 },
 "nbformat": 4,
 "nbformat_minor": 4
}
